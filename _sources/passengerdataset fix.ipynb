{
 "cells": [
  {
   "attachments": {},
   "cell_type": "markdown",
   "metadata": {},
   "source": [
    "## Get and prepare Data"
   ]
  },
  {
   "cell_type": "code",
   "execution_count": 24,
   "metadata": {},
   "outputs": [],
   "source": [
    "import numpy as np\n",
    "import pandas as pd"
   ]
  },
  {
   "cell_type": "code",
   "execution_count": 25,
   "metadata": {},
   "outputs": [
    {
     "data": {
      "text/html": [
       "<div>\n",
       "<style scoped>\n",
       "    .dataframe tbody tr th:only-of-type {\n",
       "        vertical-align: middle;\n",
       "    }\n",
       "\n",
       "    .dataframe tbody tr th {\n",
       "        vertical-align: top;\n",
       "    }\n",
       "\n",
       "    .dataframe thead th {\n",
       "        text-align: right;\n",
       "    }\n",
       "</style>\n",
       "<table border=\"1\" class=\"dataframe\">\n",
       "  <thead>\n",
       "    <tr style=\"text-align: right;\">\n",
       "      <th></th>\n",
       "      <th>Month</th>\n",
       "      <th>Passengers</th>\n",
       "    </tr>\n",
       "  </thead>\n",
       "  <tbody>\n",
       "    <tr>\n",
       "      <th>0</th>\n",
       "      <td>1949-01</td>\n",
       "      <td>112</td>\n",
       "    </tr>\n",
       "    <tr>\n",
       "      <th>1</th>\n",
       "      <td>1949-02</td>\n",
       "      <td>118</td>\n",
       "    </tr>\n",
       "    <tr>\n",
       "      <th>2</th>\n",
       "      <td>1949-03</td>\n",
       "      <td>132</td>\n",
       "    </tr>\n",
       "    <tr>\n",
       "      <th>3</th>\n",
       "      <td>1949-04</td>\n",
       "      <td>129</td>\n",
       "    </tr>\n",
       "    <tr>\n",
       "      <th>4</th>\n",
       "      <td>1949-05</td>\n",
       "      <td>121</td>\n",
       "    </tr>\n",
       "    <tr>\n",
       "      <th>5</th>\n",
       "      <td>1949-06</td>\n",
       "      <td>135</td>\n",
       "    </tr>\n",
       "    <tr>\n",
       "      <th>6</th>\n",
       "      <td>1949-07</td>\n",
       "      <td>148</td>\n",
       "    </tr>\n",
       "  </tbody>\n",
       "</table>\n",
       "</div>"
      ],
      "text/plain": [
       "     Month  Passengers\n",
       "0  1949-01         112\n",
       "1  1949-02         118\n",
       "2  1949-03         132\n",
       "3  1949-04         129\n",
       "4  1949-05         121\n",
       "5  1949-06         135\n",
       "6  1949-07         148"
      ]
     },
     "execution_count": 25,
     "metadata": {},
     "output_type": "execute_result"
    }
   ],
   "source": [
    "df_data = pd.read_csv('https://raw.githubusercontent.com/jbrownlee/Datasets/master/airline-passengers.csv')\n",
    "df_data.head(7)"
   ]
  },
  {
   "cell_type": "code",
   "execution_count": 26,
   "metadata": {},
   "outputs": [
    {
     "data": {
      "text/plain": [
       "(144, 2)"
      ]
     },
     "execution_count": 26,
     "metadata": {},
     "output_type": "execute_result"
    }
   ],
   "source": [
    "df_data.shape"
   ]
  },
  {
   "cell_type": "code",
   "execution_count": 27,
   "metadata": {},
   "outputs": [],
   "source": [
    "df_passenger= df_data['Passengers']"
   ]
  },
  {
   "cell_type": "code",
   "execution_count": 28,
   "metadata": {},
   "outputs": [],
   "source": [
    "# transform univariate time series to supervised learning problem\n",
    "from numpy import array\n",
    "# split a univariate sequence into samples\n",
    "def split_sequence(sequence, n_steps):\n",
    "    X, y = list(), list()\n",
    "    for i in range(len(sequence)):\n",
    "    # find the end of this pattern\n",
    "        end_ix = i + n_steps\n",
    "    # check if we are beyond the sequence\n",
    "        if end_ix > len(sequence)-1:\n",
    "            break\n",
    "    # gather input and output parts of the pattern\n",
    "        # print(i, end_ix)\n",
    "        seq_x, seq_y = sequence[i:end_ix], sequence[end_ix]\n",
    "        X.append(seq_x)\n",
    "        y.append(seq_y)\n",
    "    return array(X), array(y)"
   ]
  },
  {
   "attachments": {},
   "cell_type": "markdown",
   "metadata": {},
   "source": [
    "## tuning data"
   ]
  },
  {
   "cell_type": "code",
   "execution_count": 29,
   "metadata": {},
   "outputs": [],
   "source": [
    "n_steps = 2\n",
    "X, y = split_sequence(df_passenger, n_steps)"
   ]
  },
  {
   "cell_type": "code",
   "execution_count": 30,
   "metadata": {},
   "outputs": [
    {
     "name": "stdout",
     "output_type": "stream",
     "text": [
      "(142, 2) (142,)\n"
     ]
    }
   ],
   "source": [
    "print(X.shape, y.shape)"
   ]
  },
  {
   "cell_type": "code",
   "execution_count": 31,
   "metadata": {},
   "outputs": [],
   "source": [
    "# column names to X and y data frames\n",
    "df_X = pd.DataFrame(X, columns=['t-'+str(i) for i in range(n_steps-1, -1,-1)])\n",
    "df_y = pd.DataFrame(y, columns=['t+1 (prediction)'])\n",
    "\n",
    "# concat df_X and df_y\n",
    "df = pd.concat([df_X, df_y], axis=1)"
   ]
  },
  {
   "cell_type": "code",
   "execution_count": 32,
   "metadata": {},
   "outputs": [
    {
     "data": {
      "text/html": [
       "<div>\n",
       "<style scoped>\n",
       "    .dataframe tbody tr th:only-of-type {\n",
       "        vertical-align: middle;\n",
       "    }\n",
       "\n",
       "    .dataframe tbody tr th {\n",
       "        vertical-align: top;\n",
       "    }\n",
       "\n",
       "    .dataframe thead th {\n",
       "        text-align: right;\n",
       "    }\n",
       "</style>\n",
       "<table border=\"1\" class=\"dataframe\">\n",
       "  <thead>\n",
       "    <tr style=\"text-align: right;\">\n",
       "      <th></th>\n",
       "      <th>t-1</th>\n",
       "      <th>t-0</th>\n",
       "      <th>t+1 (prediction)</th>\n",
       "    </tr>\n",
       "  </thead>\n",
       "  <tbody>\n",
       "    <tr>\n",
       "      <th>0</th>\n",
       "      <td>112</td>\n",
       "      <td>118</td>\n",
       "      <td>132</td>\n",
       "    </tr>\n",
       "    <tr>\n",
       "      <th>1</th>\n",
       "      <td>118</td>\n",
       "      <td>132</td>\n",
       "      <td>129</td>\n",
       "    </tr>\n",
       "    <tr>\n",
       "      <th>2</th>\n",
       "      <td>132</td>\n",
       "      <td>129</td>\n",
       "      <td>121</td>\n",
       "    </tr>\n",
       "  </tbody>\n",
       "</table>\n",
       "</div>"
      ],
      "text/plain": [
       "   t-1  t-0  t+1 (prediction)\n",
       "0  112  118               132\n",
       "1  118  132               129\n",
       "2  132  129               121"
      ]
     },
     "execution_count": 32,
     "metadata": {},
     "output_type": "execute_result"
    }
   ],
   "source": [
    "# df_X.head()\n",
    "# df_y.head()\n",
    "df.head(3)"
   ]
  },
  {
   "attachments": {},
   "cell_type": "markdown",
   "metadata": {},
   "source": [
    "## prepo"
   ]
  },
  {
   "cell_type": "code",
   "execution_count": 33,
   "metadata": {},
   "outputs": [],
   "source": [
    "from sklearn.preprocessing import MinMaxScaler\n",
    "scaler= MinMaxScaler()\n",
    "X_norm= scaler.fit_transform(df_X)\n",
    "# y_norm= scaler.fit_transform(df_y)"
   ]
  },
  {
   "cell_type": "code",
   "execution_count": 34,
   "metadata": {},
   "outputs": [
    {
     "data": {
      "text/plain": [
       "array([[0.01544402, 0.02702703],\n",
       "       [0.02702703, 0.05405405],\n",
       "       [0.05405405, 0.04826255],\n",
       "       [0.04826255, 0.03281853],\n",
       "       [0.03281853, 0.05984556],\n",
       "       [0.05984556, 0.08494208],\n",
       "       [0.08494208, 0.08494208],\n",
       "       [0.08494208, 0.06177606],\n",
       "       [0.06177606, 0.02895753],\n",
       "       [0.02895753, 0.        ],\n",
       "       [0.        , 0.02702703],\n",
       "       [0.02702703, 0.02123552],\n",
       "       [0.02123552, 0.04247104],\n",
       "       [0.04247104, 0.07142857],\n",
       "       [0.07142857, 0.05984556],\n",
       "       [0.05984556, 0.04054054],\n",
       "       [0.04054054, 0.08687259],\n",
       "       [0.08687259, 0.12741313],\n",
       "       [0.12741313, 0.12741313],\n",
       "       [0.12741313, 0.1042471 ],\n",
       "       [0.1042471 , 0.05598456],\n",
       "       [0.05598456, 0.01930502],\n",
       "       [0.01930502, 0.06949807],\n",
       "       [0.06949807, 0.07915058],\n",
       "       [0.07915058, 0.08880309],\n",
       "       [0.08880309, 0.14285714],\n",
       "       [0.14285714, 0.11389961],\n",
       "       [0.11389961, 0.13127413],\n",
       "       [0.13127413, 0.14285714],\n",
       "       [0.14285714, 0.18339768],\n",
       "       [0.18339768, 0.18339768],\n",
       "       [0.18339768, 0.15444015],\n",
       "       [0.15444015, 0.11196911],\n",
       "       [0.11196911, 0.08108108],\n",
       "       [0.08108108, 0.11969112],\n",
       "       [0.11969112, 0.12934363],\n",
       "       [0.12934363, 0.14671815],\n",
       "       [0.14671815, 0.17181467],\n",
       "       [0.17181467, 0.14864865],\n",
       "       [0.14864865, 0.15250965],\n",
       "       [0.15250965, 0.22007722],\n",
       "       [0.22007722, 0.24324324],\n",
       "       [0.24324324, 0.26640927],\n",
       "       [0.26640927, 0.2027027 ],\n",
       "       [0.2027027 , 0.16795367],\n",
       "       [0.16795367, 0.13127413],\n",
       "       [0.13127413, 0.17374517],\n",
       "       [0.17374517, 0.17760618],\n",
       "       [0.17760618, 0.17760618],\n",
       "       [0.17760618, 0.25482625],\n",
       "       [0.25482625, 0.25289575],\n",
       "       [0.25289575, 0.24131274],\n",
       "       [0.24131274, 0.26833977],\n",
       "       [0.26833977, 0.30888031],\n",
       "       [0.30888031, 0.32432432],\n",
       "       [0.32432432, 0.25675676],\n",
       "       [0.25675676, 0.20656371],\n",
       "       [0.20656371, 0.14671815],\n",
       "       [0.14671815, 0.18725869],\n",
       "       [0.18725869, 0.19305019],\n",
       "       [0.19305019, 0.16216216],\n",
       "       [0.16216216, 0.25289575],\n",
       "       [0.25289575, 0.23745174],\n",
       "       [0.23745174, 0.25096525],\n",
       "       [0.25096525, 0.30888031],\n",
       "       [0.30888031, 0.38223938],\n",
       "       [0.38223938, 0.36486486],\n",
       "       [0.36486486, 0.2992278 ],\n",
       "       [0.2992278 , 0.24131274],\n",
       "       [0.24131274, 0.19111969],\n",
       "       [0.19111969, 0.24131274],\n",
       "       [0.24131274, 0.26640927],\n",
       "       [0.26640927, 0.24903475],\n",
       "       [0.24903475, 0.31467181],\n",
       "       [0.31467181, 0.31853282],\n",
       "       [0.31853282, 0.32046332],\n",
       "       [0.32046332, 0.40733591],\n",
       "       [0.40733591, 0.5019305 ],\n",
       "       [0.5019305 , 0.46911197],\n",
       "       [0.46911197, 0.4015444 ],\n",
       "       [0.4015444 , 0.32818533],\n",
       "       [0.32818533, 0.25675676],\n",
       "       [0.25675676, 0.33590734],\n",
       "       [0.33590734, 0.34749035],\n",
       "       [0.34749035, 0.33397683],\n",
       "       [0.33397683, 0.41119691],\n",
       "       [0.41119691, 0.4034749 ],\n",
       "       [0.4034749 , 0.41312741],\n",
       "       [0.41312741, 0.52123552],\n",
       "       [0.52123552, 0.5965251 ],\n",
       "       [0.5965251 , 0.58108108],\n",
       "       [0.58108108, 0.48455598],\n",
       "       [0.48455598, 0.38996139],\n",
       "       [0.38996139, 0.32239382],\n",
       "       [0.32239382, 0.38996139],\n",
       "       [0.38996139, 0.40733591],\n",
       "       [0.40733591, 0.38030888],\n",
       "       [0.38030888, 0.48648649],\n",
       "       [0.48648649, 0.47104247],\n",
       "       [0.47104247, 0.48455598],\n",
       "       [0.48455598, 0.61389961],\n",
       "       [0.61389961, 0.6969112 ],\n",
       "       [0.6969112 , 0.7007722 ],\n",
       "       [0.7007722 , 0.57915058],\n",
       "       [0.57915058, 0.46911197],\n",
       "       [0.46911197, 0.38803089],\n",
       "       [0.38803089, 0.44787645],\n",
       "       [0.44787645, 0.45559846],\n",
       "       [0.45559846, 0.41312741],\n",
       "       [0.41312741, 0.4980695 ],\n",
       "       [0.4980695 , 0.47104247],\n",
       "       [0.47104247, 0.5       ],\n",
       "       [0.5       , 0.63899614],\n",
       "       [0.63899614, 0.74710425],\n",
       "       [0.74710425, 0.77413127],\n",
       "       [0.77413127, 0.57915058],\n",
       "       [0.57915058, 0.49227799],\n",
       "       [0.49227799, 0.3976834 ],\n",
       "       [0.3976834 , 0.44980695],\n",
       "       [0.44980695, 0.49420849],\n",
       "       [0.49420849, 0.45945946],\n",
       "       [0.45945946, 0.58301158],\n",
       "       [0.58301158, 0.56370656],\n",
       "       [0.56370656, 0.61003861],\n",
       "       [0.61003861, 0.71042471],\n",
       "       [0.71042471, 0.85714286],\n",
       "       [0.85714286, 0.87837838],\n",
       "       [0.87837838, 0.69305019],\n",
       "       [0.69305019, 0.58494208],\n",
       "       [0.58494208, 0.4980695 ],\n",
       "       [0.4980695 , 0.58108108],\n",
       "       [0.58108108, 0.6042471 ],\n",
       "       [0.6042471 , 0.55405405],\n",
       "       [0.55405405, 0.60810811],\n",
       "       [0.60810811, 0.68918919],\n",
       "       [0.68918919, 0.71042471],\n",
       "       [0.71042471, 0.83204633],\n",
       "       [0.83204633, 1.        ],\n",
       "       [1.        , 0.96911197],\n",
       "       [0.96911197, 0.77992278],\n",
       "       [0.77992278, 0.68918919],\n",
       "       [0.68918919, 0.55212355]])"
      ]
     },
     "execution_count": 34,
     "metadata": {},
     "output_type": "execute_result"
    }
   ],
   "source": [
    "X_norm"
   ]
  },
  {
   "attachments": {},
   "cell_type": "markdown",
   "metadata": {},
   "source": [
    "## Split data"
   ]
  },
  {
   "cell_type": "code",
   "execution_count": 35,
   "metadata": {},
   "outputs": [],
   "source": [
    "from sklearn.model_selection import train_test_split\n",
    "X_train, X_test, y_train, y_test = train_test_split(X_norm, y, test_size=0.2, random_state=0)"
   ]
  },
  {
   "attachments": {},
   "cell_type": "markdown",
   "metadata": {},
   "source": [
    "## model"
   ]
  },
  {
   "cell_type": "code",
   "execution_count": 36,
   "metadata": {},
   "outputs": [],
   "source": [
    "# import knn\n",
    "from sklearn.neighbors import KNeighborsRegressor\n",
    "model_knn = KNeighborsRegressor(n_neighbors=3)"
   ]
  },
  {
   "attachments": {},
   "cell_type": "markdown",
   "metadata": {},
   "source": [
    "## fit and predict knn"
   ]
  },
  {
   "cell_type": "code",
   "execution_count": 37,
   "metadata": {},
   "outputs": [],
   "source": [
    "model_knn.fit(X_train, y_train)\n",
    "y_pred=model_knn.predict(X_test)"
   ]
  },
  {
   "attachments": {},
   "cell_type": "markdown",
   "metadata": {},
   "source": [
    "## mse"
   ]
  },
  {
   "attachments": {},
   "cell_type": "markdown",
   "metadata": {},
   "source": [
    "$$ \\text{MSE} = \\frac{1}{n} \\sum_{i=0}^n (y_i - \\hat{y}_i)^2$$ "
   ]
  },
  {
   "cell_type": "code",
   "execution_count": 38,
   "metadata": {},
   "outputs": [
    {
     "data": {
      "text/plain": [
       "2207.5363984674336"
      ]
     },
     "execution_count": 38,
     "metadata": {},
     "output_type": "execute_result"
    }
   ],
   "source": [
    "from sklearn.metrics import mean_squared_error\n",
    "mean_squared_error(y_test, y_pred)"
   ]
  },
  {
   "attachments": {},
   "cell_type": "markdown",
   "metadata": {},
   "source": [
    "## result"
   ]
  },
  {
   "cell_type": "code",
   "execution_count": 39,
   "metadata": {},
   "outputs": [
    {
     "data": {
      "text/plain": [
       "(29,)"
      ]
     },
     "execution_count": 39,
     "metadata": {},
     "output_type": "execute_result"
    }
   ],
   "source": [
    "y_test.shape"
   ]
  },
  {
   "cell_type": "code",
   "execution_count": 40,
   "metadata": {},
   "outputs": [
    {
     "data": {
      "text/plain": [
       "(29,)"
      ]
     },
     "execution_count": 40,
     "metadata": {},
     "output_type": "execute_result"
    }
   ],
   "source": [
    "y_pred.shape"
   ]
  },
  {
   "cell_type": "code",
   "execution_count": 41,
   "metadata": {},
   "outputs": [],
   "source": [
    "df_y_test = pd.DataFrame(y_test,columns=['y_test'])\n",
    "df_y_pred = pd.DataFrame(y_pred,columns=['y_pred'])\n",
    "\n",
    "df_hasil = pd.concat([df_y_test, df_y_pred], axis=1)"
   ]
  },
  {
   "cell_type": "code",
   "execution_count": 42,
   "metadata": {},
   "outputs": [
    {
     "data": {
      "text/html": [
       "<div>\n",
       "<style scoped>\n",
       "    .dataframe tbody tr th:only-of-type {\n",
       "        vertical-align: middle;\n",
       "    }\n",
       "\n",
       "    .dataframe tbody tr th {\n",
       "        vertical-align: top;\n",
       "    }\n",
       "\n",
       "    .dataframe thead th {\n",
       "        text-align: right;\n",
       "    }\n",
       "</style>\n",
       "<table border=\"1\" class=\"dataframe\">\n",
       "  <thead>\n",
       "    <tr style=\"text-align: right;\">\n",
       "      <th></th>\n",
       "      <th>y_test</th>\n",
       "      <th>y_pred</th>\n",
       "    </tr>\n",
       "  </thead>\n",
       "  <tbody>\n",
       "    <tr>\n",
       "      <th>0</th>\n",
       "      <td>194</td>\n",
       "      <td>163.666667</td>\n",
       "    </tr>\n",
       "    <tr>\n",
       "      <th>1</th>\n",
       "      <td>203</td>\n",
       "      <td>252.000000</td>\n",
       "    </tr>\n",
       "    <tr>\n",
       "      <th>2</th>\n",
       "      <td>170</td>\n",
       "      <td>143.666667</td>\n",
       "    </tr>\n",
       "    <tr>\n",
       "      <th>3</th>\n",
       "      <td>180</td>\n",
       "      <td>221.000000</td>\n",
       "    </tr>\n",
       "    <tr>\n",
       "      <th>4</th>\n",
       "      <td>145</td>\n",
       "      <td>137.333333</td>\n",
       "    </tr>\n",
       "    <tr>\n",
       "      <th>5</th>\n",
       "      <td>119</td>\n",
       "      <td>125.000000</td>\n",
       "    </tr>\n",
       "    <tr>\n",
       "      <th>6</th>\n",
       "      <td>318</td>\n",
       "      <td>375.333333</td>\n",
       "    </tr>\n",
       "    <tr>\n",
       "      <th>7</th>\n",
       "      <td>390</td>\n",
       "      <td>448.666667</td>\n",
       "    </tr>\n",
       "    <tr>\n",
       "      <th>8</th>\n",
       "      <td>318</td>\n",
       "      <td>343.666667</td>\n",
       "    </tr>\n",
       "    <tr>\n",
       "      <th>9</th>\n",
       "      <td>465</td>\n",
       "      <td>434.666667</td>\n",
       "    </tr>\n",
       "    <tr>\n",
       "      <th>10</th>\n",
       "      <td>306</td>\n",
       "      <td>241.666667</td>\n",
       "    </tr>\n",
       "    <tr>\n",
       "      <th>11</th>\n",
       "      <td>463</td>\n",
       "      <td>595.666667</td>\n",
       "    </tr>\n",
       "    <tr>\n",
       "      <th>12</th>\n",
       "      <td>104</td>\n",
       "      <td>141.333333</td>\n",
       "    </tr>\n",
       "    <tr>\n",
       "      <th>13</th>\n",
       "      <td>355</td>\n",
       "      <td>360.333333</td>\n",
       "    </tr>\n",
       "    <tr>\n",
       "      <th>14</th>\n",
       "      <td>461</td>\n",
       "      <td>507.000000</td>\n",
       "    </tr>\n",
       "    <tr>\n",
       "      <th>15</th>\n",
       "      <td>166</td>\n",
       "      <td>127.666667</td>\n",
       "    </tr>\n",
       "    <tr>\n",
       "      <th>16</th>\n",
       "      <td>277</td>\n",
       "      <td>274.000000</td>\n",
       "    </tr>\n",
       "    <tr>\n",
       "      <th>17</th>\n",
       "      <td>317</td>\n",
       "      <td>271.333333</td>\n",
       "    </tr>\n",
       "    <tr>\n",
       "      <th>18</th>\n",
       "      <td>404</td>\n",
       "      <td>520.333333</td>\n",
       "    </tr>\n",
       "    <tr>\n",
       "      <th>19</th>\n",
       "      <td>178</td>\n",
       "      <td>144.666667</td>\n",
       "    </tr>\n",
       "    <tr>\n",
       "      <th>20</th>\n",
       "      <td>264</td>\n",
       "      <td>223.666667</td>\n",
       "    </tr>\n",
       "    <tr>\n",
       "      <th>21</th>\n",
       "      <td>313</td>\n",
       "      <td>324.000000</td>\n",
       "    </tr>\n",
       "    <tr>\n",
       "      <th>22</th>\n",
       "      <td>235</td>\n",
       "      <td>199.666667</td>\n",
       "    </tr>\n",
       "    <tr>\n",
       "      <th>23</th>\n",
       "      <td>172</td>\n",
       "      <td>153.000000</td>\n",
       "    </tr>\n",
       "    <tr>\n",
       "      <th>24</th>\n",
       "      <td>234</td>\n",
       "      <td>246.333333</td>\n",
       "    </tr>\n",
       "    <tr>\n",
       "      <th>25</th>\n",
       "      <td>158</td>\n",
       "      <td>185.666667</td>\n",
       "    </tr>\n",
       "    <tr>\n",
       "      <th>26</th>\n",
       "      <td>269</td>\n",
       "      <td>286.000000</td>\n",
       "    </tr>\n",
       "    <tr>\n",
       "      <th>27</th>\n",
       "      <td>336</td>\n",
       "      <td>294.000000</td>\n",
       "    </tr>\n",
       "    <tr>\n",
       "      <th>28</th>\n",
       "      <td>172</td>\n",
       "      <td>182.333333</td>\n",
       "    </tr>\n",
       "  </tbody>\n",
       "</table>\n",
       "</div>"
      ],
      "text/plain": [
       "    y_test      y_pred\n",
       "0      194  163.666667\n",
       "1      203  252.000000\n",
       "2      170  143.666667\n",
       "3      180  221.000000\n",
       "4      145  137.333333\n",
       "5      119  125.000000\n",
       "6      318  375.333333\n",
       "7      390  448.666667\n",
       "8      318  343.666667\n",
       "9      465  434.666667\n",
       "10     306  241.666667\n",
       "11     463  595.666667\n",
       "12     104  141.333333\n",
       "13     355  360.333333\n",
       "14     461  507.000000\n",
       "15     166  127.666667\n",
       "16     277  274.000000\n",
       "17     317  271.333333\n",
       "18     404  520.333333\n",
       "19     178  144.666667\n",
       "20     264  223.666667\n",
       "21     313  324.000000\n",
       "22     235  199.666667\n",
       "23     172  153.000000\n",
       "24     234  246.333333\n",
       "25     158  185.666667\n",
       "26     269  286.000000\n",
       "27     336  294.000000\n",
       "28     172  182.333333"
      ]
     },
     "execution_count": 42,
     "metadata": {},
     "output_type": "execute_result"
    }
   ],
   "source": [
    "df_hasil"
   ]
  },
  {
   "cell_type": "code",
   "execution_count": 43,
   "metadata": {},
   "outputs": [],
   "source": [
    "# df_hasil.to_excel('df_hasil n_step={}.xlsx'.format(n_steps), index=False)"
   ]
  },
  {
   "cell_type": "code",
   "execution_count": 44,
   "metadata": {},
   "outputs": [
    {
     "data": {
      "text/plain": [
       "104"
      ]
     },
     "execution_count": 44,
     "metadata": {},
     "output_type": "execute_result"
    }
   ],
   "source": [
    "y.min()"
   ]
  },
  {
   "cell_type": "code",
   "execution_count": 45,
   "metadata": {},
   "outputs": [
    {
     "data": {
      "text/plain": [
       "622"
      ]
     },
     "execution_count": 45,
     "metadata": {},
     "output_type": "execute_result"
    }
   ],
   "source": [
    "y.max()"
   ]
  }
 ],
 "metadata": {
  "kernelspec": {
   "display_name": "Python 3",
   "language": "python",
   "name": "python3"
  },
  "language_info": {
   "codemirror_mode": {
    "name": "ipython",
    "version": 3
   },
   "file_extension": ".py",
   "mimetype": "text/x-python",
   "name": "python",
   "nbconvert_exporter": "python",
   "pygments_lexer": "ipython3",
   "version": "3.8.6"
  },
  "orig_nbformat": 4
 },
 "nbformat": 4,
 "nbformat_minor": 2
}
